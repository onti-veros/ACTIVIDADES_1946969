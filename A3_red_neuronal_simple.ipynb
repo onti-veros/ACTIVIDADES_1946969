{
  "nbformat": 4,
  "nbformat_minor": 0,
  "metadata": {
    "colab": {
      "provenance": [],
      "authorship_tag": "ABX9TyPRNES4TGDUDUmjhatNH1WK",
      "include_colab_link": true
    },
    "kernelspec": {
      "name": "python3",
      "display_name": "Python 3"
    },
    "language_info": {
      "name": "python"
    }
  },
  "cells": [
    {
      "cell_type": "markdown",
      "metadata": {
        "id": "view-in-github",
        "colab_type": "text"
      },
      "source": [
        "<a href=\"https://colab.research.google.com/github/onti-veros/ACTIVIDADES_1946969/blob/main/A3_red_neuronal_simple.ipynb\" target=\"_parent\"><img src=\"https://colab.research.google.com/assets/colab-badge.svg\" alt=\"Open In Colab\"/></a>"
      ]
    },
    {
      "cell_type": "markdown",
      "source": [
        "# A3: Entrenamiento de Red Neuronal Artificial simple.\n",
        "\n",
        "Yessica Sarahi Ontiveros Farrera 1946969 Grupo 007 N1\n"
      ],
      "metadata": {
        "id": "joflLxNFEqe3"
      }
    },
    {
      "cell_type": "markdown",
      "source": [
        "\n",
        "> Entrenar una red neuronal artificial en el conjunto de datos MNIST basándose en el ejemplo que se discutió en clase.\n",
        "\n"
      ],
      "metadata": {
        "id": "2fLUrzzVFUCE"
      }
    },
    {
      "cell_type": "markdown",
      "source": [
        "Se colocan las librerias necesarias para la red"
      ],
      "metadata": {
        "id": "F14XTk0qW62B"
      }
    },
    {
      "cell_type": "code",
      "source": [
        "# TensorFlow y tf.keras\n",
        "import tensorflow as tf\n",
        "from tensorflow import keras\n",
        "\n",
        "# Librerias de ayuda\n",
        "import numpy as np\n",
        "import matplotlib.pyplot as plt\n",
        "\n",
        "print(tf.__version__)"
      ],
      "metadata": {
        "colab": {
          "base_uri": "https://localhost:8080/"
        },
        "id": "K-iXDpO9FjbP",
        "outputId": "de500936-15ae-4fd8-c6dd-00c0296d3807"
      },
      "execution_count": 2,
      "outputs": [
        {
          "output_type": "stream",
          "name": "stdout",
          "text": [
            "2.12.0\n"
          ]
        }
      ]
    },
    {
      "cell_type": "markdown",
      "source": [
        "Se carga el set de datos de mnist "
      ],
      "metadata": {
        "id": "rAkamZdAXMJK"
      }
    },
    {
      "cell_type": "code",
      "source": [
        "from keras.datasets import mnist"
      ],
      "metadata": {
        "id": "ni4eQHIoSXVx"
      },
      "execution_count": 3,
      "outputs": []
    },
    {
      "cell_type": "code",
      "source": [
        "(entren_imagenes, entren_etiquetas), (test_imagenes, test_etiquetas) = mnist.load_data()"
      ],
      "metadata": {
        "id": "7i7A1yaiSjBS"
      },
      "execution_count": 16,
      "outputs": []
    },
    {
      "cell_type": "markdown",
      "source": [
        "Se explora el set de datos para ver con que se está trabajando."
      ],
      "metadata": {
        "id": "1SXG4HnlXlN8"
      }
    },
    {
      "cell_type": "code",
      "source": [
        "entren_imagenes.shape"
      ],
      "metadata": {
        "colab": {
          "base_uri": "https://localhost:8080/"
        },
        "id": "5OBKu4G5nY3M",
        "outputId": "c088e9fe-b240-46e5-eaf6-2ff5db441245"
      },
      "execution_count": 5,
      "outputs": [
        {
          "output_type": "execute_result",
          "data": {
            "text/plain": [
              "(60000, 28, 28)"
            ]
          },
          "metadata": {},
          "execution_count": 5
        }
      ]
    },
    {
      "cell_type": "code",
      "source": [
        "len(entren_imagenes)"
      ],
      "metadata": {
        "colab": {
          "base_uri": "https://localhost:8080/"
        },
        "id": "zN_T8w7DndBt",
        "outputId": "079ed9ac-1818-47ee-9bfb-445ed415d62e"
      },
      "execution_count": 6,
      "outputs": [
        {
          "output_type": "execute_result",
          "data": {
            "text/plain": [
              "60000"
            ]
          },
          "metadata": {},
          "execution_count": 6
        }
      ]
    },
    {
      "cell_type": "code",
      "source": [
        "entren_imagenes.dtype"
      ],
      "metadata": {
        "colab": {
          "base_uri": "https://localhost:8080/"
        },
        "id": "EFiO3rAfQMoR",
        "outputId": "db738e54-8b48-4c2d-b5b8-c19c49b31a20"
      },
      "execution_count": 7,
      "outputs": [
        {
          "output_type": "execute_result",
          "data": {
            "text/plain": [
              "dtype('uint8')"
            ]
          },
          "metadata": {},
          "execution_count": 7
        }
      ]
    },
    {
      "cell_type": "code",
      "source": [
        "test_imagenes.shape "
      ],
      "metadata": {
        "colab": {
          "base_uri": "https://localhost:8080/"
        },
        "id": "qlfrreBVn7SK",
        "outputId": "7161a252-7f3e-4bac-efe7-a6498c57496a"
      },
      "execution_count": 8,
      "outputs": [
        {
          "output_type": "execute_result",
          "data": {
            "text/plain": [
              "(10000, 28, 28)"
            ]
          },
          "metadata": {},
          "execution_count": 8
        }
      ]
    },
    {
      "cell_type": "code",
      "source": [
        "len(test_imagenes)"
      ],
      "metadata": {
        "colab": {
          "base_uri": "https://localhost:8080/"
        },
        "id": "NTN_WMYeoEzj",
        "outputId": "08319f08-efa6-47ad-f246-96507816edb2"
      },
      "execution_count": 9,
      "outputs": [
        {
          "output_type": "execute_result",
          "data": {
            "text/plain": [
              "10000"
            ]
          },
          "metadata": {},
          "execution_count": 9
        }
      ]
    },
    {
      "cell_type": "code",
      "source": [
        "test_imagenes.dtype"
      ],
      "metadata": {
        "colab": {
          "base_uri": "https://localhost:8080/"
        },
        "id": "lFLIqT0JoP6c",
        "outputId": "32a2faca-d64c-4c4c-c1c6-276cd9a1c763"
      },
      "execution_count": 10,
      "outputs": [
        {
          "output_type": "execute_result",
          "data": {
            "text/plain": [
              "dtype('uint8')"
            ]
          },
          "metadata": {},
          "execution_count": 10
        }
      ]
    },
    {
      "cell_type": "code",
      "source": [
        "len(test_etiquetas)"
      ],
      "metadata": {
        "colab": {
          "base_uri": "https://localhost:8080/"
        },
        "id": "2Sbw3pVoHBl-",
        "outputId": "387ae470-4378-407d-c6fe-b28c2a06e61f"
      },
      "execution_count": 11,
      "outputs": [
        {
          "output_type": "execute_result",
          "data": {
            "text/plain": [
              "10000"
            ]
          },
          "metadata": {},
          "execution_count": 11
        }
      ]
    },
    {
      "cell_type": "markdown",
      "source": [
        "Se visualiza un ejemplo del set de datos, en este caso la imagen numero 7000 resulta ser un 8."
      ],
      "metadata": {
        "id": "hp8mvxgqXoBA"
      }
    },
    {
      "cell_type": "code",
      "source": [
        "plt.imshow(entren_imagenes[7000], cmap=plt.cm.binary)"
      ],
      "metadata": {
        "colab": {
          "base_uri": "https://localhost:8080/",
          "height": 447
        },
        "id": "agd8DlwY_jpa",
        "outputId": "8d46dcdd-c917-4de9-e61f-67ddf135736f"
      },
      "execution_count": 12,
      "outputs": [
        {
          "output_type": "execute_result",
          "data": {
            "text/plain": [
              "<matplotlib.image.AxesImage at 0x7f6345704a90>"
            ]
          },
          "metadata": {},
          "execution_count": 12
        },
        {
          "output_type": "display_data",
          "data": {
            "text/plain": [
              "<Figure size 640x480 with 1 Axes>"
            ],
            "image/png": "[encoded data removed]"
          },
          "metadata": {}
        }
      ]
    },
    {
      "cell_type": "code",
      "source": [
        "print(entren_etiquetas[7000])"
      ],
      "metadata": {
        "colab": {
          "base_uri": "https://localhost:8080/"
        },
        "id": "py8UWIxh_z6M",
        "outputId": "a64ceace-a392-4d1e-f101-d625b252b190"
      },
      "execution_count": 13,
      "outputs": [
        {
          "output_type": "stream",
          "name": "stdout",
          "text": [
            "8\n"
          ]
        }
      ]
    },
    {
      "cell_type": "markdown",
      "source": [
        "Ya que las imagenes se encuentran en escala de grises desde un inicio, no se necesitan pre-procesarse, por lo que directamente normalizamos los datos. "
      ],
      "metadata": {
        "id": "DOotTWOkYFM_"
      }
    },
    {
      "cell_type": "code",
      "source": [
        "entren_imagenes=entren_imagenes / 255.0 \n",
        "test_imagenes=test_imagenes / 255.0"
      ],
      "metadata": {
        "id": "9Ch1t7Jfr2XS"
      },
      "execution_count": 17,
      "outputs": []
    },
    {
      "cell_type": "markdown",
      "source": [
        "Se despliegan las primeras 25 imagenes de un set con sus etiquetas correspondientes"
      ],
      "metadata": {
        "id": "UrTe4BfxZsXz"
      }
    },
    {
      "cell_type": "code",
      "source": [
        "plt.figure(figsize=(10,10))\n",
        "for i in range(25):\n",
        "    plt.subplot(5,5,i+1)\n",
        "    plt.xticks([])\n",
        "    plt.yticks([])\n",
        "    plt.grid(False)\n",
        "    plt.imshow(entren_imagenes[i], cmap=plt.cm.binary)\n",
        "    plt.xlabel(entren_etiquetas[i])\n",
        "plt.show()"
      ],
      "metadata": {
        "id": "HZLyhYBP0Cy5",
        "colab": {
          "base_uri": "https://localhost:8080/",
          "height": 826
        },
        "outputId": "2e54a98f-9147-491d-ec50-846d002312ef"
      },
      "execution_count": 18,
      "outputs": [
        {
          "output_type": "display_data",
          "data": {
            "text/plain": [
              "<Figure size 1000x1000 with 25 Axes>"
            ],
            "image/png": "[encoded data removed]"
          },
          "metadata": {}
        }
      ]
    },
    {
      "cell_type": "markdown",
      "source": [
        "Se crea un arreglo bidimensional de dos capas. La primera con 128 neuronas y la segunda de 10 nodos."
      ],
      "metadata": {
        "id": "IDqGPCxEaI0n"
      }
    },
    {
      "cell_type": "code",
      "source": [
        "model = keras.Sequential([\n",
        "    keras.layers.Flatten(input_shape=(28, 28)),\n",
        "    keras.layers.Dense(128, activation='relu'),\n",
        "    keras.layers.Dense(10, activation='softmax')\n",
        "])"
      ],
      "metadata": {
        "id": "bpGcUbXT90Sw"
      },
      "execution_count": 19,
      "outputs": []
    },
    {
      "cell_type": "markdown",
      "source": [
        "Se compila el model "
      ],
      "metadata": {
        "id": "t4G9H_6Yaqj3"
      }
    },
    {
      "cell_type": "code",
      "source": [
        "model.compile(optimizer='adam',\n",
        "              loss='sparse_categorical_crossentropy',\n",
        "              metrics=['accuracy'])\n",
        "\n"
      ],
      "metadata": {
        "id": "6YVVr7As_-bb"
      },
      "execution_count": 20,
      "outputs": []
    },
    {
      "cell_type": "markdown",
      "source": [
        "Se llama al método model.fit "
      ],
      "metadata": {
        "id": "JvVGfcyhayKY"
      }
    },
    {
      "cell_type": "code",
      "source": [
        "model.fit(entren_imagenes, entren_etiquetas, epochs=10)"
      ],
      "metadata": {
        "colab": {
          "base_uri": "https://localhost:8080/"
        },
        "id": "0gH1i4prJfje",
        "outputId": "0d154b48-9daa-4a87-eda4-4a8a61206000"
      },
      "execution_count": 21,
      "outputs": [
        {
          "output_type": "stream",
          "name": "stdout",
          "text": [
            "Epoch 1/10\n",
            "1875/1875 [==============================] - 6s 3ms/step - loss: 0.2569 - accuracy: 0.9267\n",
            "Epoch 2/10\n",
            "1875/1875 [==============================] - 5s 3ms/step - loss: 0.1098 - accuracy: 0.9676\n",
            "Epoch 3/10\n",
            "1875/1875 [==============================] - 6s 3ms/step - loss: 0.0763 - accuracy: 0.9778\n",
            "Epoch 4/10\n",
            "1875/1875 [==============================] - 5s 3ms/step - loss: 0.0565 - accuracy: 0.9829\n",
            "Epoch 5/10\n",
            "1875/1875 [==============================] - 6s 3ms/step - loss: 0.0441 - accuracy: 0.9862\n",
            "Epoch 6/10\n",
            "1875/1875 [==============================] - 5s 3ms/step - loss: 0.0336 - accuracy: 0.9898\n",
            "Epoch 7/10\n",
            "1875/1875 [==============================] - 6s 3ms/step - loss: 0.0275 - accuracy: 0.9919\n",
            "Epoch 8/10\n",
            "1875/1875 [==============================] - 5s 3ms/step - loss: 0.0233 - accuracy: 0.9928\n",
            "Epoch 9/10\n",
            "1875/1875 [==============================] - 5s 3ms/step - loss: 0.0170 - accuracy: 0.9951\n",
            "Epoch 10/10\n",
            "1875/1875 [==============================] - 5s 3ms/step - loss: 0.0153 - accuracy: 0.9950\n"
          ]
        },
        {
          "output_type": "execute_result",
          "data": {
            "text/plain": [
              "<keras.callbacks.History at 0x7f6344562650>"
            ]
          },
          "metadata": {},
          "execution_count": 21
        }
      ]
    },
    {
      "cell_type": "markdown",
      "source": [
        "Comparamos la exactitud del modelo sobre el test de datos."
      ],
      "metadata": {
        "id": "U5YDF0uEGg9s"
      }
    },
    {
      "cell_type": "code",
      "source": [
        "test_loss, test_acc = model.evaluate(test_imagenes,  test_etiquetas, verbose=2)\n",
        "\n",
        "print('\\nTest accuracy:', test_acc)"
      ],
      "metadata": {
        "colab": {
          "base_uri": "https://localhost:8080/"
        },
        "id": "EQaITUAQM23d",
        "outputId": "cb659ce0-cdef-4eed-d2f2-c5389dcffc7a"
      },
      "execution_count": 22,
      "outputs": [
        {
          "output_type": "stream",
          "name": "stdout",
          "text": [
            "313/313 - 0s - loss: 0.0755 - accuracy: 0.9783 - 462ms/epoch - 1ms/step\n",
            "\n",
            "Test accuracy: 0.9782999753952026\n"
          ]
        }
      ]
    },
    {
      "cell_type": "markdown",
      "source": [
        "Podemos notar un ligero *overfitting* debido a la diminución en eficiencia de un 0.02% comparado con los resultados obtenidos en el entrenamiento. "
      ],
      "metadata": {
        "id": "Ks-pCHnrGy7n"
      }
    },
    {
      "cell_type": "markdown",
      "source": [
        "Ya entrenado, podemos hacer que el modelo ejecute predicciones en el set de prueba"
      ],
      "metadata": {
        "id": "BR_lTODCHNWS"
      }
    },
    {
      "cell_type": "code",
      "source": [
        "predictions = model.predict(test_imagenes)"
      ],
      "metadata": {
        "colab": {
          "base_uri": "https://localhost:8080/"
        },
        "id": "ED0DBcm2L_Ik",
        "outputId": "609e88a0-e71a-4970-eff5-7c5d184cd3b1"
      },
      "execution_count": 23,
      "outputs": [
        {
          "output_type": "stream",
          "name": "stdout",
          "text": [
            "313/313 [==============================] - 0s 1ms/step\n"
          ]
        }
      ]
    },
    {
      "cell_type": "markdown",
      "source": [
        "Visualizamos la predicción de la primera imagen "
      ],
      "metadata": {
        "id": "V2a-b8nFHcLU"
      }
    },
    {
      "cell_type": "code",
      "source": [
        "predictions[0]"
      ],
      "metadata": {
        "colab": {
          "base_uri": "https://localhost:8080/"
        },
        "id": "ze4GE75QMKHB",
        "outputId": "97acbd6f-c735-462a-d1ac-86e0afdbd9ca"
      },
      "execution_count": 24,
      "outputs": [
        {
          "output_type": "execute_result",
          "data": {
            "text/plain": [
              "array([4.6918769e-10, 5.1616128e-11, 6.2129679e-09, 1.1007920e-05,\n",
              "       8.5082786e-14, 1.0470501e-08, 2.9294706e-15, 9.9998885e-01,\n",
              "       1.8864198e-10, 1.7558057e-07], dtype=float32)"
            ]
          },
          "metadata": {},
          "execution_count": 24
        }
      ]
    },
    {
      "cell_type": "markdown",
      "source": [
        "Extraemos el valor más probable del arreglo."
      ],
      "metadata": {
        "id": "SsU8RrrwHp-A"
      }
    },
    {
      "cell_type": "code",
      "source": [
        "np.argmax(predictions[0])"
      ],
      "metadata": {
        "colab": {
          "base_uri": "https://localhost:8080/"
        },
        "id": "vQk31Y4aMW62",
        "outputId": "29b9e0f4-1193-4e9e-8809-11b95d85fc0d"
      },
      "execution_count": 25,
      "outputs": [
        {
          "output_type": "execute_result",
          "data": {
            "text/plain": [
              "7"
            ]
          },
          "metadata": {},
          "execution_count": 25
        }
      ]
    },
    {
      "cell_type": "markdown",
      "source": [
        "Y examinamos la etiqueta correspondiente para ver si la predicción fue correcta."
      ],
      "metadata": {
        "id": "yN-Va0irH9I2"
      }
    },
    {
      "cell_type": "code",
      "source": [
        "test_etiquetas[0]"
      ],
      "metadata": {
        "colab": {
          "base_uri": "https://localhost:8080/"
        },
        "id": "f8UOZcOeMjlZ",
        "outputId": "30a3ccba-482a-4f34-8df1-970815d12ffd"
      },
      "execution_count": 26,
      "outputs": [
        {
          "output_type": "execute_result",
          "data": {
            "text/plain": [
              "7"
            ]
          },
          "metadata": {},
          "execution_count": 26
        }
      ]
    },
    {
      "cell_type": "markdown",
      "source": [
        "En efecto, la imagen de la predicción corresponde a un siete. "
      ],
      "metadata": {
        "id": "RHoir3REIOIA"
      }
    },
    {
      "cell_type": "markdown",
      "source": [
        "Se crea una grafica para poder visualizar todo el set. "
      ],
      "metadata": {
        "id": "Eg8skQo6IZDi"
      }
    },
    {
      "cell_type": "code",
      "source": [
        "def plot_image(i, predictions_array, true_label, img):\n",
        "  predictions_array, true_label, img = predictions_array, true_label[i], img[i]\n",
        "  plt.grid(False)\n",
        "  plt.xticks([])\n",
        "  plt.yticks([])\n",
        "\n",
        "  plt.imshow(img, cmap=plt.cm.binary)\n",
        "\n",
        "  predicted_label = np.argmax(predictions_array)\n",
        "  if predicted_label == true_label:\n",
        "    color = 'blue'\n",
        "  else:\n",
        "    color = 'red'\n",
        "\n",
        "  plt.xlabel(\"{} {:2.0f}% ({})\".format([predicted_label],\n",
        "                                100*np.max(predictions_array),\n",
        "                               [true_label]),\n",
        "                                color=color)\n",
        "\n",
        "def plot_value_array(i, predictions_array, true_label):\n",
        "  predictions_array, true_label = predictions_array, true_label[i]\n",
        "  plt.grid(False)\n",
        "  plt.xticks(range(10))\n",
        "  plt.yticks([])\n",
        "  thisplot = plt.bar(range(10), predictions_array, color=\"#777777\")\n",
        "  plt.ylim([0, 1])\n",
        "  predicted_label = np.argmax(predictions_array)\n",
        "\n",
        "  thisplot[predicted_label].set_color('red')\n",
        "  thisplot[true_label].set_color('blue')"
      ],
      "metadata": {
        "id": "jy4mISShMxi4"
      },
      "execution_count": 27,
      "outputs": []
    },
    {
      "cell_type": "markdown",
      "source": [
        "A continuación se muestran dos imagenes con sus predicciones y arreglo de predicciones."
      ],
      "metadata": {
        "id": "qrVoRMLnImZZ"
      }
    },
    {
      "cell_type": "code",
      "source": [
        "i = 0\n",
        "plt.figure(figsize=(6,3))\n",
        "plt.subplot(1,2,1)\n",
        "plot_image(i, predictions[i], test_etiquetas, test_imagenes)\n",
        "plt.subplot(1,2,2)\n",
        "plot_value_array(i, predictions[i],  test_etiquetas)\n",
        "plt.show()"
      ],
      "metadata": {
        "colab": {
          "base_uri": "https://localhost:8080/",
          "height": 291
        },
        "id": "UG0hAlSxNOW4",
        "outputId": "40d38263-3482-4e75-dcd7-e2893eca339e"
      },
      "execution_count": 28,
      "outputs": [
        {
          "output_type": "display_data",
          "data": {
            "text/plain": [
              "<Figure size 600x300 with 2 Axes>"
            ],
            "image/png": "[encoded data removed]"
          },
          "metadata": {}
        }
      ]
    },
    {
      "cell_type": "code",
      "source": [
        "i = 12\n",
        "plt.figure(figsize=(6,3))\n",
        "plt.subplot(1,2,1)\n",
        "plot_image(i, predictions[i], test_etiquetas, test_imagenes)\n",
        "plt.subplot(1,2,2)\n",
        "plot_value_array(i, predictions[i],  test_etiquetas)\n",
        "plt.show()"
      ],
      "metadata": {
        "colab": {
          "base_uri": "https://localhost:8080/",
          "height": 291
        },
        "id": "Iio6iWv4P29w",
        "outputId": "5e8c9e60-2676-4986-c9c3-ec714a2fe9c2"
      },
      "execution_count": 29,
      "outputs": [
        {
          "output_type": "display_data",
          "data": {
            "text/plain": [
              "<Figure size 600x300 with 2 Axes>"
            ],
            "image/png": "[encoded data removed]"
          },
          "metadata": {}
        }
      ]
    },
    {
      "cell_type": "markdown",
      "source": [
        "Como resultado final se muestra un arreglo de 5x3 de las imagenes de prueba junto con sus predicciones. "
      ],
      "metadata": {
        "id": "hBEdFKRXJAQP"
      }
    },
    {
      "cell_type": "code",
      "source": [
        "num_rows = 5\n",
        "num_cols = 3\n",
        "num_images = num_rows*num_cols\n",
        "plt.figure(figsize=(2*2*num_cols, 2*num_rows))\n",
        "for i in range(num_images):\n",
        "  plt.subplot(num_rows, 2*num_cols, 2*i+1)\n",
        "  plot_image(i, predictions[i], test_etiquetas, test_imagenes)\n",
        "  plt.subplot(num_rows, 2*num_cols, 2*i+2)\n",
        "  plot_value_array(i, predictions[i], test_etiquetas)\n",
        "plt.tight_layout()\n",
        "plt.show()"
      ],
      "metadata": {
        "colab": {
          "base_uri": "https://localhost:8080/",
          "height": 1000
        },
        "id": "dXev0MitSxWp",
        "outputId": "5148fc16-d7c5-4f54-c484-589c86297f80"
      },
      "execution_count": 30,
      "outputs": [
        {
          "output_type": "display_data",
          "data": {
            "text/plain": [
              "<Figure size 1200x1000 with 30 Axes>"
            ],
            "image/png": "[encoded data removed]"
          },
          "metadata": {}
        }
      ]
    },
    {
      "cell_type": "markdown",
      "source": [
        "También se muestra el uso del modelo para predecir una sola imagen "
      ],
      "metadata": {
        "id": "7pd454xDJNnJ"
      }
    },
    {
      "cell_type": "code",
      "source": [
        "img = test_imagenes[1]\n",
        "\n",
        "print(img.shape)"
      ],
      "metadata": {
        "colab": {
          "base_uri": "https://localhost:8080/"
        },
        "id": "G9vADQeZTP1L",
        "outputId": "0be8eefd-69b8-4962-c1b0-a63b88e3761e"
      },
      "execution_count": 31,
      "outputs": [
        {
          "output_type": "stream",
          "name": "stdout",
          "text": [
            "(28, 28)\n"
          ]
        }
      ]
    },
    {
      "cell_type": "code",
      "source": [
        "img = (np.expand_dims(img,0))\n",
        "\n",
        "print(img.shape)"
      ],
      "metadata": {
        "colab": {
          "base_uri": "https://localhost:8080/"
        },
        "id": "wSJipHUiTraY",
        "outputId": "11e556b5-70d9-4bac-8d51-ff34f8b17740"
      },
      "execution_count": 32,
      "outputs": [
        {
          "output_type": "stream",
          "name": "stdout",
          "text": [
            "(1, 28, 28)\n"
          ]
        }
      ]
    },
    {
      "cell_type": "code",
      "source": [
        "predictions_single = model.predict(img)\n",
        "\n",
        "print(predictions_single)"
      ],
      "metadata": {
        "colab": {
          "base_uri": "https://localhost:8080/"
        },
        "id": "PmDKGkGITwNh",
        "outputId": "74fc07b9-64ec-4459-ec41-90207a5b82b8"
      },
      "execution_count": 33,
      "outputs": [
        {
          "output_type": "stream",
          "name": "stdout",
          "text": [
            "1/1 [==============================] - 0s 16ms/step\n",
            "[[9.63961875e-13 1.09545635e-08 1.00000000e+00 1.64484010e-10\n",
            "  3.22766037e-21 8.41558281e-11 5.82221207e-12 4.47187507e-20\n",
            "  5.14047083e-10 1.01225764e-17]]\n"
          ]
        }
      ]
    },
    {
      "cell_type": "code",
      "source": [
        "plot_value_array(1, predictions_single[0], test_etiquetas)\n",
        "_ = plt.xticks(range(10), rotation=45)"
      ],
      "metadata": {
        "colab": {
          "base_uri": "https://localhost:8080/",
          "height": 432
        },
        "id": "VjVc2iQvT3wW",
        "outputId": "73e8ca00-13f2-4756-96bf-915803cc313a"
      },
      "execution_count": 34,
      "outputs": [
        {
          "output_type": "display_data",
          "data": {
            "text/plain": [
              "<Figure size 640x480 with 1 Axes>"
            ],
            "image/png": "[encoded data removed]"
          },
          "metadata": {}
        }
      ]
    },
    {
      "cell_type": "code",
      "source": [
        "np.argmax(predictions_single[0])"
      ],
      "metadata": {
        "colab": {
          "base_uri": "https://localhost:8080/"
        },
        "id": "sXtqFQgNUMnp",
        "outputId": "7eacea39-67ef-4b1a-971f-f03870df7ab9"
      },
      "execution_count": 35,
      "outputs": [
        {
          "output_type": "execute_result",
          "data": {
            "text/plain": [
              "2"
            ]
          },
          "metadata": {},
          "execution_count": 35
        }
      ]
    }
  ]
}