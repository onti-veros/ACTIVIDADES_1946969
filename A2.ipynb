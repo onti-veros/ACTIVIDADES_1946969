{
  "nbformat": 4,
  "nbformat_minor": 0,
  "metadata": {
    "colab": {
      "provenance": [],
      "authorship_tag": "ABX9TyMLNpUS8tPzXKL26+i6A6O5",
      "include_colab_link": true
    },
    "kernelspec": {
      "name": "python3",
      "display_name": "Python 3"
    },
    "language_info": {
      "name": "python"
    }
  },
  "cells": [
    {
      "cell_type": "markdown",
      "metadata": {
        "id": "view-in-github",
        "colab_type": "text"
      },
      "source": [
        "<a href=\"https://colab.research.google.com/github/onti-veros/ACTIVIDADES_1946969/blob/main/A2.ipynb\" target=\"_parent\"><img src=\"https://colab.research.google.com/assets/colab-badge.svg\" alt=\"Open In Colab\"/></a>"
      ]
    },
    {
      "cell_type": "markdown",
      "source": [
        "# A2: Ejercicios en Python"
      ],
      "metadata": {
        "id": "K_yyE4sH2ALX"
      }
    },
    {
      "cell_type": "markdown",
      "source": [
        "Yessica Sarahi Ontiveros Farrera \n",
        "1946969\n",
        "Grupo 007 N1 "
      ],
      "metadata": {
        "id": "D4-Ka8ci2IRd"
      }
    },
    {
      "cell_type": "markdown",
      "source": [
        "> Desarrolla un algoritmo que le pida al usuario por su nombre y que lo salude con su nombre, excepto si se llama “Ana”, “Juan”, y “Pedro”."
      ],
      "metadata": {
        "id": "KjfD-rq212q1"
      }
    },
    {
      "cell_type": "code",
      "source": [
        "nom=input(\"Nombre:\") #Ejemplo con saludo \n",
        "if nom == 'Ana' or nom == 'ana' or nom == 'Juan' or nom == 'juan' or nom == 'Pedro' or nom == 'pedro':\n",
        "  print(\"Disculpa, no puedo saludarte :(\")\n",
        "else:\n",
        "  print(\"Hola,{}!\".format(nom))"
      ],
      "metadata": {
        "colab": {
          "base_uri": "https://localhost:8080/"
        },
        "id": "b8ZUNTavyhoh",
        "outputId": "822407f5-d50e-4b70-aebf-82723547aa09"
      },
      "execution_count": 6,
      "outputs": [
        {
          "output_type": "stream",
          "name": "stdout",
          "text": [
            "Nombre:Mariel\n",
            "Hola,Mariel!\n"
          ]
        }
      ]
    },
    {
      "cell_type": "code",
      "source": [
        "nom=input(\"Nombre:\") #Ejemplo sin saludo \n",
        "if nom == 'Ana' or nom == 'ana' or nom == 'Juan' or nom == 'juan' or nom == 'Pedro' or nom == 'pedro':\n",
        "  print(\"Disculpa, no puedo saludarte :(\")\n",
        "else:\n",
        "  print(\"Hola,{}!\".format(nom))"
      ],
      "metadata": {
        "colab": {
          "base_uri": "https://localhost:8080/"
        },
        "id": "YflRfdeJ0wKz",
        "outputId": "c485754d-1a4c-42ec-ac3f-dc2372aedff7"
      },
      "execution_count": 7,
      "outputs": [
        {
          "output_type": "stream",
          "name": "stdout",
          "text": [
            "Nombre:pedro\n",
            "Disculpa, no puedo saludarte :(\n"
          ]
        }
      ]
    },
    {
      "cell_type": "markdown",
      "source": [
        "> Desarrolla un algoritmo que por medio de una función, le pida al usuario una lista de N elementos y como resultado invierta el sentido de la lista. "
      ],
      "metadata": {
        "id": "dfqCcxw61l1L"
      }
    },
    {
      "cell_type": "code",
      "source": [
        "L=input(\"Coloque los articulos de la lista separados por espacios:\")\n",
        "LI = L[::-1]\n",
        "print(LI)"
      ],
      "metadata": {
        "colab": {
          "base_uri": "https://localhost:8080/"
        },
        "id": "cXCkjs3ACJNr",
        "outputId": "3003d8fc-8e4c-435f-942c-06a013ebb84c"
      },
      "execution_count": 1,
      "outputs": [
        {
          "output_type": "stream",
          "name": "stdout",
          "text": [
            "Coloque los articulos de la lista separados por espacios:ejote calabaza cebollin tuna aguacate lechuga \n",
            " aguhcel etacauga anut nillobec azabalac etoje\n"
          ]
        }
      ]
    },
    {
      "cell_type": "markdown",
      "source": [
        "\n",
        "> Desarrolla un algoritmo que le pregunte al usuario cuántos números de la serie de Fibonnaci quiere generar y que al final los imprima\n",
        "\n"
      ],
      "metadata": {
        "id": "1j02FKHi08Q9"
      }
    },
    {
      "cell_type": "code",
      "execution_count": 1,
      "metadata": {
        "colab": {
          "base_uri": "https://localhost:8080/"
        },
        "id": "NvBUZ04VB3I4",
        "outputId": "62bc7308-19e9-4fb6-d656-f0f23619b606"
      },
      "outputs": [
        {
          "output_type": "stream",
          "name": "stdout",
          "text": [
            "Serie de Fibonacci\n",
            "\n",
            "Total de numeros en la serie:13\n",
            "0\n",
            "1\n",
            "1\n",
            "2\n",
            "3\n",
            "5\n",
            "8\n",
            "13\n",
            "21\n",
            "34\n",
            "55\n",
            "89\n",
            "144\n"
          ]
        }
      ],
      "source": [
        "print(\"Serie de Fibonacci\")\n",
        "\n",
        "i=int(input(\"\\nTotal de numeros en la serie:\")) \n",
        "def fibonacci(i):\n",
        " if i < 2: #ya que los primeros dos terminos de la serie son 0 y 1\n",
        "  return i\n",
        " else:\n",
        "  return fibonacci(i-1) + fibonacci(i-2)\n",
        "for n in range(i):\n",
        " print(fibonacci(n))"
      ]
    }
  ]
}